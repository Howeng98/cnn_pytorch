{
  "nbformat": 4,
  "nbformat_minor": 0,
  "metadata": {
    "colab": {
      "name": "ResNet.ipynb",
      "provenance": [],
      "collapsed_sections": []
    },
    "kernelspec": {
      "name": "python3",
      "display_name": "Python 3"
    },
    "language_info": {
      "name": "python"
    },
    "accelerator": "GPU",
    "widgets": {
      "application/vnd.jupyter.widget-state+json": {
        "4699c18cc196465c937f24b77f170bb1": {
          "model_module": "@jupyter-widgets/controls",
          "model_name": "HBoxModel",
          "model_module_version": "1.5.0",
          "state": {
            "_view_name": "HBoxView",
            "_dom_classes": [],
            "_model_name": "HBoxModel",
            "_view_module": "@jupyter-widgets/controls",
            "_model_module_version": "1.5.0",
            "_view_count": null,
            "_view_module_version": "1.5.0",
            "box_style": "",
            "layout": "IPY_MODEL_5e925f7aece445e8adca7049ff8ace25",
            "_model_module": "@jupyter-widgets/controls",
            "children": [
              "IPY_MODEL_7bbb18102faa4ac2be27dae58c1ef9d1",
              "IPY_MODEL_e922addd4564497791e1b8b920ef6fe4",
              "IPY_MODEL_db9ddb0295de4551a82cde02e5d0bb9e"
            ]
          }
        },
        "5e925f7aece445e8adca7049ff8ace25": {
          "model_module": "@jupyter-widgets/base",
          "model_name": "LayoutModel",
          "model_module_version": "1.2.0",
          "state": {
            "_view_name": "LayoutView",
            "grid_template_rows": null,
            "right": null,
            "justify_content": null,
            "_view_module": "@jupyter-widgets/base",
            "overflow": null,
            "_model_module_version": "1.2.0",
            "_view_count": null,
            "flex_flow": null,
            "width": null,
            "min_width": null,
            "border": null,
            "align_items": null,
            "bottom": null,
            "_model_module": "@jupyter-widgets/base",
            "top": null,
            "grid_column": null,
            "overflow_y": null,
            "overflow_x": null,
            "grid_auto_flow": null,
            "grid_area": null,
            "grid_template_columns": null,
            "flex": null,
            "_model_name": "LayoutModel",
            "justify_items": null,
            "grid_row": null,
            "max_height": null,
            "align_content": null,
            "visibility": null,
            "align_self": null,
            "height": null,
            "min_height": null,
            "padding": null,
            "grid_auto_rows": null,
            "grid_gap": null,
            "max_width": null,
            "order": null,
            "_view_module_version": "1.2.0",
            "grid_template_areas": null,
            "object_position": null,
            "object_fit": null,
            "grid_auto_columns": null,
            "margin": null,
            "display": null,
            "left": null
          }
        },
        "7bbb18102faa4ac2be27dae58c1ef9d1": {
          "model_module": "@jupyter-widgets/controls",
          "model_name": "HTMLModel",
          "model_module_version": "1.5.0",
          "state": {
            "_view_name": "HTMLView",
            "style": "IPY_MODEL_8e08c168dd90472ba2adbfbe34a57751",
            "_dom_classes": [],
            "description": "",
            "_model_name": "HTMLModel",
            "placeholder": "​",
            "_view_module": "@jupyter-widgets/controls",
            "_model_module_version": "1.5.0",
            "value": "",
            "_view_count": null,
            "_view_module_version": "1.5.0",
            "description_tooltip": null,
            "_model_module": "@jupyter-widgets/controls",
            "layout": "IPY_MODEL_9434d48c034243a4a2c7083e15cdbd7d"
          }
        },
        "e922addd4564497791e1b8b920ef6fe4": {
          "model_module": "@jupyter-widgets/controls",
          "model_name": "FloatProgressModel",
          "model_module_version": "1.5.0",
          "state": {
            "_view_name": "ProgressView",
            "style": "IPY_MODEL_8d04f54a65584eb99248bd87d1c1b810",
            "_dom_classes": [],
            "description": "",
            "_model_name": "FloatProgressModel",
            "bar_style": "success",
            "max": 170498071,
            "_view_module": "@jupyter-widgets/controls",
            "_model_module_version": "1.5.0",
            "value": 170498071,
            "_view_count": null,
            "_view_module_version": "1.5.0",
            "orientation": "horizontal",
            "min": 0,
            "description_tooltip": null,
            "_model_module": "@jupyter-widgets/controls",
            "layout": "IPY_MODEL_79e0eb120d32418b80111bf604813556"
          }
        },
        "db9ddb0295de4551a82cde02e5d0bb9e": {
          "model_module": "@jupyter-widgets/controls",
          "model_name": "HTMLModel",
          "model_module_version": "1.5.0",
          "state": {
            "_view_name": "HTMLView",
            "style": "IPY_MODEL_d66b2c69eeaa400aba2f28aa583748e6",
            "_dom_classes": [],
            "description": "",
            "_model_name": "HTMLModel",
            "placeholder": "​",
            "_view_module": "@jupyter-widgets/controls",
            "_model_module_version": "1.5.0",
            "value": " 170499072/? [00:03&lt;00:00, 57044481.66it/s]",
            "_view_count": null,
            "_view_module_version": "1.5.0",
            "description_tooltip": null,
            "_model_module": "@jupyter-widgets/controls",
            "layout": "IPY_MODEL_6cc1daece7e44c94b8863199435eb414"
          }
        },
        "8e08c168dd90472ba2adbfbe34a57751": {
          "model_module": "@jupyter-widgets/controls",
          "model_name": "DescriptionStyleModel",
          "model_module_version": "1.5.0",
          "state": {
            "_view_name": "StyleView",
            "_model_name": "DescriptionStyleModel",
            "description_width": "",
            "_view_module": "@jupyter-widgets/base",
            "_model_module_version": "1.5.0",
            "_view_count": null,
            "_view_module_version": "1.2.0",
            "_model_module": "@jupyter-widgets/controls"
          }
        },
        "9434d48c034243a4a2c7083e15cdbd7d": {
          "model_module": "@jupyter-widgets/base",
          "model_name": "LayoutModel",
          "model_module_version": "1.2.0",
          "state": {
            "_view_name": "LayoutView",
            "grid_template_rows": null,
            "right": null,
            "justify_content": null,
            "_view_module": "@jupyter-widgets/base",
            "overflow": null,
            "_model_module_version": "1.2.0",
            "_view_count": null,
            "flex_flow": null,
            "width": null,
            "min_width": null,
            "border": null,
            "align_items": null,
            "bottom": null,
            "_model_module": "@jupyter-widgets/base",
            "top": null,
            "grid_column": null,
            "overflow_y": null,
            "overflow_x": null,
            "grid_auto_flow": null,
            "grid_area": null,
            "grid_template_columns": null,
            "flex": null,
            "_model_name": "LayoutModel",
            "justify_items": null,
            "grid_row": null,
            "max_height": null,
            "align_content": null,
            "visibility": null,
            "align_self": null,
            "height": null,
            "min_height": null,
            "padding": null,
            "grid_auto_rows": null,
            "grid_gap": null,
            "max_width": null,
            "order": null,
            "_view_module_version": "1.2.0",
            "grid_template_areas": null,
            "object_position": null,
            "object_fit": null,
            "grid_auto_columns": null,
            "margin": null,
            "display": null,
            "left": null
          }
        },
        "8d04f54a65584eb99248bd87d1c1b810": {
          "model_module": "@jupyter-widgets/controls",
          "model_name": "ProgressStyleModel",
          "model_module_version": "1.5.0",
          "state": {
            "_view_name": "StyleView",
            "_model_name": "ProgressStyleModel",
            "description_width": "",
            "_view_module": "@jupyter-widgets/base",
            "_model_module_version": "1.5.0",
            "_view_count": null,
            "_view_module_version": "1.2.0",
            "bar_color": null,
            "_model_module": "@jupyter-widgets/controls"
          }
        },
        "79e0eb120d32418b80111bf604813556": {
          "model_module": "@jupyter-widgets/base",
          "model_name": "LayoutModel",
          "model_module_version": "1.2.0",
          "state": {
            "_view_name": "LayoutView",
            "grid_template_rows": null,
            "right": null,
            "justify_content": null,
            "_view_module": "@jupyter-widgets/base",
            "overflow": null,
            "_model_module_version": "1.2.0",
            "_view_count": null,
            "flex_flow": null,
            "width": null,
            "min_width": null,
            "border": null,
            "align_items": null,
            "bottom": null,
            "_model_module": "@jupyter-widgets/base",
            "top": null,
            "grid_column": null,
            "overflow_y": null,
            "overflow_x": null,
            "grid_auto_flow": null,
            "grid_area": null,
            "grid_template_columns": null,
            "flex": null,
            "_model_name": "LayoutModel",
            "justify_items": null,
            "grid_row": null,
            "max_height": null,
            "align_content": null,
            "visibility": null,
            "align_self": null,
            "height": null,
            "min_height": null,
            "padding": null,
            "grid_auto_rows": null,
            "grid_gap": null,
            "max_width": null,
            "order": null,
            "_view_module_version": "1.2.0",
            "grid_template_areas": null,
            "object_position": null,
            "object_fit": null,
            "grid_auto_columns": null,
            "margin": null,
            "display": null,
            "left": null
          }
        },
        "d66b2c69eeaa400aba2f28aa583748e6": {
          "model_module": "@jupyter-widgets/controls",
          "model_name": "DescriptionStyleModel",
          "model_module_version": "1.5.0",
          "state": {
            "_view_name": "StyleView",
            "_model_name": "DescriptionStyleModel",
            "description_width": "",
            "_view_module": "@jupyter-widgets/base",
            "_model_module_version": "1.5.0",
            "_view_count": null,
            "_view_module_version": "1.2.0",
            "_model_module": "@jupyter-widgets/controls"
          }
        },
        "6cc1daece7e44c94b8863199435eb414": {
          "model_module": "@jupyter-widgets/base",
          "model_name": "LayoutModel",
          "model_module_version": "1.2.0",
          "state": {
            "_view_name": "LayoutView",
            "grid_template_rows": null,
            "right": null,
            "justify_content": null,
            "_view_module": "@jupyter-widgets/base",
            "overflow": null,
            "_model_module_version": "1.2.0",
            "_view_count": null,
            "flex_flow": null,
            "width": null,
            "min_width": null,
            "border": null,
            "align_items": null,
            "bottom": null,
            "_model_module": "@jupyter-widgets/base",
            "top": null,
            "grid_column": null,
            "overflow_y": null,
            "overflow_x": null,
            "grid_auto_flow": null,
            "grid_area": null,
            "grid_template_columns": null,
            "flex": null,
            "_model_name": "LayoutModel",
            "justify_items": null,
            "grid_row": null,
            "max_height": null,
            "align_content": null,
            "visibility": null,
            "align_self": null,
            "height": null,
            "min_height": null,
            "padding": null,
            "grid_auto_rows": null,
            "grid_gap": null,
            "max_width": null,
            "order": null,
            "_view_module_version": "1.2.0",
            "grid_template_areas": null,
            "object_position": null,
            "object_fit": null,
            "grid_auto_columns": null,
            "margin": null,
            "display": null,
            "left": null
          }
        }
      }
    }
  },
  "cells": [
    {
      "cell_type": "code",
      "metadata": {
        "id": "E31du8Z5zvfN"
      },
      "source": [
        "import os\n",
        "import torch\n",
        "import torch.nn as nn\n",
        "import torch.nn.functional as F\n",
        "import torch.optim as optim\n",
        "from torch.utils.data import DataLoader\n",
        "from torch.autograd import Variable\n",
        "from torchvision import datasets, transforms\n",
        "import torchvision\n",
        "import matplotlib.pyplot as plt\n",
        "from torchsummary import summary\n",
        "import gc\n"
      ],
      "execution_count": 1,
      "outputs": []
    },
    {
      "cell_type": "code",
      "metadata": {
        "id": "EE5rnh-w9Haz",
        "colab": {
          "base_uri": "https://localhost:8080/"
        },
        "outputId": "1def259e-aca5-429a-898f-9545823a1430"
      },
      "source": [
        "!nvidia-smi\n",
        "device = torch.device(\"cuda:0\" if torch.cuda.is_available() else \"cpu\")\n",
        "print('Current using: ',device)"
      ],
      "execution_count": 4,
      "outputs": [
        {
          "output_type": "stream",
          "text": [
            "Fri Aug 27 07:36:13 2021       \n",
            "+-----------------------------------------------------------------------------+\n",
            "| NVIDIA-SMI 470.57.02    Driver Version: 460.32.03    CUDA Version: 11.2     |\n",
            "|-------------------------------+----------------------+----------------------+\n",
            "| GPU  Name        Persistence-M| Bus-Id        Disp.A | Volatile Uncorr. ECC |\n",
            "| Fan  Temp  Perf  Pwr:Usage/Cap|         Memory-Usage | GPU-Util  Compute M. |\n",
            "|                               |                      |               MIG M. |\n",
            "|===============================+======================+======================|\n",
            "|   0  Tesla K80           Off  | 00000000:00:04.0 Off |                    0 |\n",
            "| N/A   51C    P8    28W / 149W |      3MiB / 11441MiB |      0%      Default |\n",
            "|                               |                      |                  N/A |\n",
            "+-------------------------------+----------------------+----------------------+\n",
            "                                                                               \n",
            "+-----------------------------------------------------------------------------+\n",
            "| Processes:                                                                  |\n",
            "|  GPU   GI   CI        PID   Type   Process name                  GPU Memory |\n",
            "|        ID   ID                                                   Usage      |\n",
            "|=============================================================================|\n",
            "|  No running processes found                                                 |\n",
            "+-----------------------------------------------------------------------------+\n",
            "Current using:  cuda:0\n"
          ],
          "name": "stdout"
        }
      ]
    },
    {
      "cell_type": "code",
      "metadata": {
        "id": "gOvSO7jjzx2v"
      },
      "source": [
        "# from google.colab import drive\n",
        "# drive.mount('/content/drive')"
      ],
      "execution_count": 3,
      "outputs": []
    },
    {
      "cell_type": "code",
      "metadata": {
        "id": "08VgZP8ozz_Y"
      },
      "source": [
        "# Hyper Parameters\n",
        "EPOCH = 10\n",
        "BATCH_SIZE = 64\n",
        "LR = 0.01\n",
        "MOMENTUM = 0.9\n",
        "num_classes = 10\n",
        "classes = ('plane', 'car', 'bird', 'cat',\n",
        "           'deer', 'dog', 'frog', 'horse', 'ship', 'truck')\n",
        "DOWNLOAD = True"
      ],
      "execution_count": 5,
      "outputs": []
    },
    {
      "cell_type": "code",
      "metadata": {
        "id": "P2pMAwFC0Auy",
        "colab": {
          "base_uri": "https://localhost:8080/",
          "height": 100,
          "referenced_widgets": [
            "4699c18cc196465c937f24b77f170bb1",
            "5e925f7aece445e8adca7049ff8ace25",
            "7bbb18102faa4ac2be27dae58c1ef9d1",
            "e922addd4564497791e1b8b920ef6fe4",
            "db9ddb0295de4551a82cde02e5d0bb9e",
            "8e08c168dd90472ba2adbfbe34a57751",
            "9434d48c034243a4a2c7083e15cdbd7d",
            "8d04f54a65584eb99248bd87d1c1b810",
            "79e0eb120d32418b80111bf604813556",
            "d66b2c69eeaa400aba2f28aa583748e6",
            "6cc1daece7e44c94b8863199435eb414"
          ]
        },
        "outputId": "7e608dd5-c7e8-4d65-e0bc-dc86e60c8ef6"
      },
      "source": [
        "# Transform\n",
        "transform = transforms.Compose(\n",
        "                [\n",
        "                 transforms.Resize(size=(224,224)),\n",
        "                 transforms.ToTensor(),\n",
        "                 transforms.Normalize((0.5,), (0.5,)),                 \n",
        "                #  transforms.Normalize(mean=[0.485, 0.456, 0.406], std=[0.229, 0.224, 0.225]),\n",
        "                 transforms.RandomHorizontalFlip(),\n",
        "                ]\n",
        "                )\n",
        "\n",
        "# Data\n",
        "train_dataset = datasets.CIFAR10(root='/dataset', train=True, download=DOWNLOAD, transform=transform)\n",
        "valid_dataset = datasets.CIFAR10(root='/dataset', train=False, download=DOWNLOAD, transform=transform)\n",
        "train_loader = DataLoader(train_dataset, batch_size=BATCH_SIZE, shuffle=True, num_workers=2)\n",
        "valid_loader = DataLoader(valid_dataset, batch_size=BATCH_SIZE, shuffle=False, num_workers=2)"
      ],
      "execution_count": 6,
      "outputs": [
        {
          "output_type": "stream",
          "text": [
            "Downloading https://www.cs.toronto.edu/~kriz/cifar-10-python.tar.gz to /dataset/cifar-10-python.tar.gz\n"
          ],
          "name": "stdout"
        },
        {
          "output_type": "display_data",
          "data": {
            "application/vnd.jupyter.widget-view+json": {
              "model_id": "4699c18cc196465c937f24b77f170bb1",
              "version_minor": 0,
              "version_major": 2
            },
            "text/plain": [
              "  0%|          | 0/170498071 [00:00<?, ?it/s]"
            ]
          },
          "metadata": {}
        },
        {
          "output_type": "stream",
          "text": [
            "Extracting /dataset/cifar-10-python.tar.gz to /dataset\n",
            "Files already downloaded and verified\n"
          ],
          "name": "stdout"
        }
      ]
    },
    {
      "cell_type": "code",
      "metadata": {
        "id": "uvw8PaGTeqCf"
      },
      "source": [
        "class basic_block(nn.Module):\n",
        "    # 輸出通道乘的倍數\n",
        "    expansion = 1\n",
        "\n",
        "    def __init__(self, in_channels, out_channels, stride, downsample):\n",
        "        super(basic_block, self).__init__()      \n",
        "        self.conv1 = nn.Conv2d(in_channels=in_channels, out_channels=out_channels, kernel_size=3, stride=stride, padding=1, bias=False)\n",
        "        self.bn1 = nn.BatchNorm2d(out_channels)\n",
        "        self.relu = nn.ReLU(inplace=True)\n",
        "        self.conv2 = nn.Conv2d(in_channels=out_channels, out_channels=out_channels, kernel_size=3, stride=1, padding=1, bias=False)\n",
        "        self.bn2 = nn.BatchNorm2d(out_channels)\n",
        "\n",
        "        # 在 shortcut 時，若維度不一樣，要更改維度\n",
        "        self.downsample = downsample \n",
        "\n",
        "\n",
        "    def forward(self, x):\n",
        "        residual = x\n",
        "\n",
        "        out = self.conv1(x)\n",
        "        out = self.bn1(out)\n",
        "        out = self.relu(out)\n",
        "        out = self.conv2(out)\n",
        "        out = self.bn2(out)\n",
        "\n",
        "        if self.downsample is not None:\n",
        "            residual = self.downsample(x)\n",
        "\n",
        "        out += residual\n",
        "        out = self.relu(out)\n",
        "\n",
        "        return out"
      ],
      "execution_count": 7,
      "outputs": []
    },
    {
      "cell_type": "code",
      "metadata": {
        "id": "3B67dbbAh7kD"
      },
      "source": [
        "class bottleneck_block(nn.Module):\n",
        "    # 輸出通道乘的倍數\n",
        "    expansion = 4\n",
        "\n",
        "    def __init__(self, in_channels, out_channels, stride, downsample):\n",
        "        super(bottleneck_block, self).__init__()      \n",
        "        self.conv1 = nn.Conv2d(in_channels=in_channels, out_channels=out_channels, kernel_size=1, bias=False)\n",
        "        self.bn1 = nn.BatchNorm2d(out_channels)\n",
        "        self.relu = nn.ReLU(inplace=True)\n",
        "        self.conv2 = nn.Conv2d(in_channels=out_channels, out_channels=out_channels, kernel_size=3, stride=stride, padding=1, bias=False)\n",
        "        self.bn2 = nn.BatchNorm2d(out_channels)\n",
        "        self.conv3 = nn.Conv2d(in_channels=out_channels, out_channels=out_channels * self.expansion, kernel_size=1, bias=False)\n",
        "        self.bn3 = nn.BatchNorm2d(out_channels * self.expansion)\n",
        "\n",
        "        # 在 shortcut 時，若維度不一樣，要更改維度\n",
        "        self.downsample = downsample \n",
        "\n",
        "\n",
        "    def forward(self, x):\n",
        "        residual = x\n",
        "\n",
        "        out = self.conv1(x)\n",
        "        out = self.bn1(out)\n",
        "        out = self.relu(out)\n",
        "        out = self.conv2(out)\n",
        "        out = self.bn2(out)\n",
        "        out = self.relu(out)\n",
        "        out = self.conv3(out)\n",
        "        out = self.bn3(out)\n",
        "\n",
        "        if self.downsample is not None:\n",
        "            residual = self.downsample(x)\n",
        "\n",
        "        out += residual\n",
        "        out = self.relu(out)\n",
        "\n",
        "        return out"
      ],
      "execution_count": 8,
      "outputs": []
    },
    {
      "cell_type": "code",
      "metadata": {
        "id": "reWTv5P0NqEh"
      },
      "source": [
        "class ResNet(nn.Module):\n",
        "    def __init__(self, net_block, layers, num_classes):\n",
        "        super(ResNet, self).__init__()\n",
        "        self.in_channels = 64\n",
        "        self.conv1 = nn.Conv2d(in_channels=3, out_channels=64, kernel_size=7, stride=2, padding=3, bias=False)\n",
        "        self.bn1 = nn.BatchNorm2d(64)\n",
        "        self.relu = nn.ReLU(inplace=True)\n",
        "        self.maxpooling = nn.MaxPool2d(kernel_size=3, stride=2, padding=1)\n",
        "\n",
        "        self.layer1 = self.net_block_layer(net_block, 64, layers[0])\n",
        "        self.layer2 = self.net_block_layer(net_block, 128, layers[1], stride=2)\n",
        "        self.layer3 = self.net_block_layer(net_block, 256, layers[2], stride=2)\n",
        "        self.layer4 = self.net_block_layer(net_block, 512, layers[3], stride=2)\n",
        "\n",
        "        self.avgpooling = nn.AvgPool2d(7, stride=1)\n",
        "        self.fc = nn.Linear(512 * net_block.expansion, num_classes)\n",
        "\n",
        "        # 參數初始化\n",
        "        for m in self.modules():\n",
        "            if isinstance(m, nn.Conv2d):\n",
        "              nn.init.kaiming_normal_(m.weight, mode=\"fan_out\", nonlinearity=\"relu\")\n",
        "\n",
        "            elif isinstance(m, nn.BatchNorm2d):\n",
        "              nn.init.constant_(m.weight, 1)\n",
        "              nn.init.constant_(m.bias, 0)        \n",
        "\n",
        "    def net_block_layer(self, net_block, out_channels, num_blocks, stride=1):\n",
        "        downsample = None\n",
        "\n",
        "      # 在 shortcut 時，若維度不一樣，要更改維度\n",
        "        if stride != 1 or self.in_channels != out_channels * net_block.expansion:\n",
        "          downsample = nn.Sequential(nn.Conv2d(self.in_channels, out_channels * net_block.expansion, kernel_size=1, stride=stride, bias=False),\n",
        "                      nn.BatchNorm2d(out_channels * net_block.expansion))\n",
        "\n",
        "        layers = []\n",
        "        layers.append(net_block(self.in_channels, out_channels, stride, downsample))\n",
        "        if net_block.expansion != 1:\n",
        "          self.in_channels = out_channels * net_block.expansion\n",
        "\n",
        "        else:\n",
        "          self.in_channels = out_channels\n",
        "\n",
        "        for i in range(1, num_blocks):\n",
        "          layers.append(net_block(self.in_channels, out_channels, 1, None))\n",
        "\n",
        "        return nn.Sequential(*layers)\n",
        "\n",
        "    def forward(self, x):\n",
        "        x = self.conv1(x)\n",
        "        x = self.bn1(x)\n",
        "        x = self.relu(x)\n",
        "        x = self.maxpooling(x)\n",
        "        x = self.layer1(x)\n",
        "        x = self.layer2(x)\n",
        "        x = self.layer3(x)\n",
        "        x = self.layer4(x)\n",
        "        x = self.avgpooling(x)\n",
        "        x = torch.flatten(x, start_dim=1)\n",
        "        x = self.fc(x)\n",
        "\n",
        "        return x"
      ],
      "execution_count": 9,
      "outputs": []
    },
    {
      "cell_type": "code",
      "metadata": {
        "id": "pEgGWNFG7z-z",
        "colab": {
          "base_uri": "https://localhost:8080/"
        },
        "outputId": "d2a34ee1-db74-4183-a0f2-1b8526d4ab1d"
      },
      "source": [
        "model = ResNet(basic_block, [2, 2, 2, 2], num_classes)\n",
        "model = model.to(device)\n",
        "# print(model)\n",
        "# try:\n",
        "summary(model, (3,224,224))\n",
        "# except Exception as e:\n",
        "#   print(e)\n",
        "optimizer = optim.SGD(model.parameters(), lr=LR, momentum=MOMENTUM)\n",
        "criterion = nn.CrossEntropyLoss()\n",
        "\n"
      ],
      "execution_count": 10,
      "outputs": [
        {
          "output_type": "stream",
          "text": [
            "----------------------------------------------------------------\n",
            "        Layer (type)               Output Shape         Param #\n",
            "================================================================\n",
            "            Conv2d-1         [-1, 64, 112, 112]           9,408\n",
            "       BatchNorm2d-2         [-1, 64, 112, 112]             128\n",
            "              ReLU-3         [-1, 64, 112, 112]               0\n",
            "         MaxPool2d-4           [-1, 64, 56, 56]               0\n",
            "            Conv2d-5           [-1, 64, 56, 56]          36,864\n",
            "       BatchNorm2d-6           [-1, 64, 56, 56]             128\n",
            "              ReLU-7           [-1, 64, 56, 56]               0\n",
            "            Conv2d-8           [-1, 64, 56, 56]          36,864\n",
            "       BatchNorm2d-9           [-1, 64, 56, 56]             128\n",
            "             ReLU-10           [-1, 64, 56, 56]               0\n",
            "      basic_block-11           [-1, 64, 56, 56]               0\n",
            "           Conv2d-12           [-1, 64, 56, 56]          36,864\n",
            "      BatchNorm2d-13           [-1, 64, 56, 56]             128\n",
            "             ReLU-14           [-1, 64, 56, 56]               0\n",
            "           Conv2d-15           [-1, 64, 56, 56]          36,864\n",
            "      BatchNorm2d-16           [-1, 64, 56, 56]             128\n",
            "             ReLU-17           [-1, 64, 56, 56]               0\n",
            "      basic_block-18           [-1, 64, 56, 56]               0\n",
            "           Conv2d-19          [-1, 128, 28, 28]          73,728\n",
            "      BatchNorm2d-20          [-1, 128, 28, 28]             256\n",
            "             ReLU-21          [-1, 128, 28, 28]               0\n",
            "           Conv2d-22          [-1, 128, 28, 28]         147,456\n",
            "      BatchNorm2d-23          [-1, 128, 28, 28]             256\n",
            "           Conv2d-24          [-1, 128, 28, 28]           8,192\n",
            "      BatchNorm2d-25          [-1, 128, 28, 28]             256\n",
            "             ReLU-26          [-1, 128, 28, 28]               0\n",
            "      basic_block-27          [-1, 128, 28, 28]               0\n",
            "           Conv2d-28          [-1, 128, 28, 28]         147,456\n",
            "      BatchNorm2d-29          [-1, 128, 28, 28]             256\n",
            "             ReLU-30          [-1, 128, 28, 28]               0\n",
            "           Conv2d-31          [-1, 128, 28, 28]         147,456\n",
            "      BatchNorm2d-32          [-1, 128, 28, 28]             256\n",
            "             ReLU-33          [-1, 128, 28, 28]               0\n",
            "      basic_block-34          [-1, 128, 28, 28]               0\n",
            "           Conv2d-35          [-1, 256, 14, 14]         294,912\n",
            "      BatchNorm2d-36          [-1, 256, 14, 14]             512\n",
            "             ReLU-37          [-1, 256, 14, 14]               0\n",
            "           Conv2d-38          [-1, 256, 14, 14]         589,824\n",
            "      BatchNorm2d-39          [-1, 256, 14, 14]             512\n",
            "           Conv2d-40          [-1, 256, 14, 14]          32,768\n",
            "      BatchNorm2d-41          [-1, 256, 14, 14]             512\n",
            "             ReLU-42          [-1, 256, 14, 14]               0\n",
            "      basic_block-43          [-1, 256, 14, 14]               0\n",
            "           Conv2d-44          [-1, 256, 14, 14]         589,824\n",
            "      BatchNorm2d-45          [-1, 256, 14, 14]             512\n",
            "             ReLU-46          [-1, 256, 14, 14]               0\n",
            "           Conv2d-47          [-1, 256, 14, 14]         589,824\n",
            "      BatchNorm2d-48          [-1, 256, 14, 14]             512\n",
            "             ReLU-49          [-1, 256, 14, 14]               0\n",
            "      basic_block-50          [-1, 256, 14, 14]               0\n",
            "           Conv2d-51            [-1, 512, 7, 7]       1,179,648\n",
            "      BatchNorm2d-52            [-1, 512, 7, 7]           1,024\n",
            "             ReLU-53            [-1, 512, 7, 7]               0\n",
            "           Conv2d-54            [-1, 512, 7, 7]       2,359,296\n",
            "      BatchNorm2d-55            [-1, 512, 7, 7]           1,024\n",
            "           Conv2d-56            [-1, 512, 7, 7]         131,072\n",
            "      BatchNorm2d-57            [-1, 512, 7, 7]           1,024\n",
            "             ReLU-58            [-1, 512, 7, 7]               0\n",
            "      basic_block-59            [-1, 512, 7, 7]               0\n",
            "           Conv2d-60            [-1, 512, 7, 7]       2,359,296\n",
            "      BatchNorm2d-61            [-1, 512, 7, 7]           1,024\n",
            "             ReLU-62            [-1, 512, 7, 7]               0\n",
            "           Conv2d-63            [-1, 512, 7, 7]       2,359,296\n",
            "      BatchNorm2d-64            [-1, 512, 7, 7]           1,024\n",
            "             ReLU-65            [-1, 512, 7, 7]               0\n",
            "      basic_block-66            [-1, 512, 7, 7]               0\n",
            "        AvgPool2d-67            [-1, 512, 1, 1]               0\n",
            "           Linear-68                   [-1, 10]           5,130\n",
            "================================================================\n",
            "Total params: 11,181,642\n",
            "Trainable params: 11,181,642\n",
            "Non-trainable params: 0\n",
            "----------------------------------------------------------------\n",
            "Input size (MB): 0.57\n",
            "Forward/backward pass size (MB): 62.79\n",
            "Params size (MB): 42.65\n",
            "Estimated Total Size (MB): 106.01\n",
            "----------------------------------------------------------------\n"
          ],
          "name": "stdout"
        },
        {
          "output_type": "stream",
          "text": [
            "/usr/local/lib/python3.7/dist-packages/torch/nn/functional.py:718: UserWarning: Named tensors and all their associated APIs are an experimental feature and subject to change. Please do not use them for anything important until they are released as stable. (Triggered internally at  /pytorch/c10/core/TensorImpl.h:1156.)\n",
            "  return torch.max_pool2d(input, kernel_size, stride, padding, dilation, ceil_mode)\n"
          ],
          "name": "stderr"
        }
      ]
    },
    {
      "cell_type": "code",
      "metadata": {
        "id": "-4YxWiOi4ibk"
      },
      "source": [
        "def train(epoch):\n",
        "    print('\\nEpoch: %d' % epoch)    \n",
        "    model.train()\n",
        "    \n",
        "    train_loss = 0\n",
        "    correct = 0\n",
        "    total = 0            \n",
        "    for batch_idx, (inputs, targets) in enumerate(train_loader):        \n",
        "        inputs, targets = inputs.to(device), targets.to(device)\n",
        "                \n",
        "        optimizer.zero_grad()        \n",
        "        outputs = model(inputs)\n",
        "                \n",
        "        loss = criterion(outputs, targets)                \n",
        "        loss.backward()\n",
        "        optimizer.step()\n",
        "\n",
        "        train_loss += loss.item()\n",
        "        _, predicted = outputs.max(1)\n",
        "        total += targets.size(0)\n",
        "        correct += predicted.eq(targets).sum().item()\n",
        "\n",
        "        if batch_idx % 100 == 0:\n",
        "            train_acc_per_epoch = 100 * (correct / float(total))\n",
        "            train_loss_per_epoch = train_loss / total\n",
        "            print(\"Train Epoch: {}/{} [iter： {:03d}/{:03d}], acc： {:.6f}, loss： {:.6f}\".format(\n",
        "               epoch, EPOCH, batch_idx+1, len(train_loader),\n",
        "               train_acc_per_epoch,\n",
        "               train_loss_per_epoch))\n",
        "    return train_acc_per_epoch, train_loss_per_epoch\n"
      ],
      "execution_count": 11,
      "outputs": []
    },
    {
      "cell_type": "code",
      "metadata": {
        "id": "TpKCLlBg6Gzb"
      },
      "source": [
        "def test(epoch):        \n",
        "    model.eval()\n",
        "    test_loss = 0\n",
        "    correct = 0\n",
        "    total = 0    \n",
        "    with torch.no_grad():\n",
        "        for batch_idx, (inputs, targets) in enumerate(valid_loader):            \n",
        "            inputs, targets = inputs.to(device), targets.to(device)\n",
        "            \n",
        "            outputs = model(inputs)            \n",
        "            loss = criterion(outputs, targets)\n",
        "\n",
        "            test_loss += loss.item()\n",
        "            _, predicted = outputs.max(1)\n",
        "            total += targets.size(0)\n",
        "            correct += predicted.eq(targets).sum().item()\n",
        "\n",
        "            if batch_idx % 100 == 0:     \n",
        "              test_acc_per_epoch = 100 * (correct / float(total))\n",
        "              test_loss_per_epoch = test_loss / total\n",
        "              print(\"Valid Epoch: {}/{} [iter： {:03d}/{:03d}], acc： {:.6f}, loss： {:.6f}\".format(\n",
        "                epoch, EPOCH, batch_idx+1, len(valid_loader),                \n",
        "                test_acc_per_epoch,\n",
        "                test_loss_per_epoch))                \n",
        "            \n",
        "    return test_acc_per_epoch, test_loss_per_epoch"
      ],
      "execution_count": 12,
      "outputs": []
    },
    {
      "cell_type": "code",
      "metadata": {
        "id": "AfjeuVNo6H7r"
      },
      "source": [
        "def training_loop():\n",
        "    # set objects for storing metrics\n",
        "    total_train_loss = []\n",
        "    total_valid_loss = []\n",
        "    total_train_accuracy = []\n",
        "    total_valid_accuracy = []\n",
        " \n",
        "    # Train model\n",
        "    for epoch in range(1,EPOCH+1):\n",
        "        # training\n",
        "        \n",
        "        train_acc_, train_loss_ = train(epoch)\n",
        "        total_train_accuracy.append(train_acc_)\n",
        "        total_train_loss.append(train_loss_)\n",
        "        \n",
        "        valid_acc_, valid_loss_ = test(epoch)        \n",
        "        total_valid_accuracy.append(valid_acc_)\n",
        "        total_valid_loss.append(valid_loss_)\n",
        "\n",
        "        print('==========================================================================')\n",
        "        print(\"Epoch: {:05d}/{:05d}， Train acc： {:.6f}， Train loss： {:.6f}， Valid acc： {:.6f}， Valid loss： {:.6f}\".format(\n",
        "               epoch, EPOCH, \n",
        "               train_acc_, train_loss_,\n",
        "               valid_acc_, valid_loss_))\n",
        "        print('==========================================================================')\n",
        "\n",
        "    # print(\"====== END ==========\")\n",
        "\n",
        "    return total_train_loss, total_valid_loss, total_train_accuracy, total_valid_accuracy"
      ],
      "execution_count": 13,
      "outputs": []
    },
    {
      "cell_type": "code",
      "metadata": {
        "id": "xZvp4Gf8V6aK"
      },
      "source": [
        "gc.collect()\n",
        "torch.cuda.empty_cache()"
      ],
      "execution_count": 14,
      "outputs": []
    },
    {
      "cell_type": "code",
      "metadata": {
        "id": "tnOAmPUUJPAd",
        "colab": {
          "base_uri": "https://localhost:8080/"
        },
        "outputId": "73e5f521-2a94-4d3c-b29d-35262fa80da6"
      },
      "source": [
        "total_train_loss, total_valid_loss, total_train_accuracy, total_valid_accuracy = training_loop()"
      ],
      "execution_count": null,
      "outputs": [
        {
          "output_type": "stream",
          "text": [
            "\n",
            "Epoch: 1\n",
            "Train Epoch: 1/10 [iter： 001/782], acc： 15.625000, loss： 0.037352\n",
            "Train Epoch: 1/10 [iter： 101/782], acc： 27.660891, loss： 0.030804\n",
            "Train Epoch: 1/10 [iter： 201/782], acc： 31.879664, loss： 0.028961\n",
            "Train Epoch: 1/10 [iter： 301/782], acc： 35.646802, loss： 0.027370\n",
            "Train Epoch: 1/10 [iter： 401/782], acc： 38.314370, loss： 0.026243\n",
            "Train Epoch: 1/10 [iter： 501/782], acc： 40.731038, loss： 0.025224\n",
            "Train Epoch: 1/10 [iter： 601/782], acc： 42.829659, loss： 0.024335\n",
            "Train Epoch: 1/10 [iter： 701/782], acc： 44.750802, loss： 0.023573\n",
            "Valid Epoch: 1/10 [iter： 001/157], acc： 51.562500, loss： 0.019957\n",
            "Valid Epoch: 1/10 [iter： 101/157], acc： 52.645421, loss： 0.020556\n",
            "==========================================================================\n",
            "Epoch: 00001/00010， Train acc： 44.750802， Train loss： 0.023573， Valid acc： 52.645421， Valid loss： 0.020556\n",
            "==========================================================================\n",
            "\n",
            "Epoch: 2\n",
            "Train Epoch: 2/10 [iter： 001/782], acc： 62.500000, loss： 0.015743\n",
            "Train Epoch: 2/10 [iter： 101/782], acc： 60.628094, loss： 0.017042\n",
            "Train Epoch: 2/10 [iter： 201/782], acc： 62.601057, loss： 0.016334\n",
            "Train Epoch: 2/10 [iter： 301/782], acc： 63.797757, loss： 0.015779\n",
            "Train Epoch: 2/10 [iter： 401/782], acc： 64.440461, loss： 0.015557\n",
            "Train Epoch: 2/10 [iter： 501/782], acc： 65.400449, loss： 0.015203\n",
            "Train Epoch: 2/10 [iter： 601/782], acc： 66.085171, loss： 0.014935\n",
            "Train Epoch: 2/10 [iter： 701/782], acc： 66.853156, loss： 0.014641\n",
            "Valid Epoch: 2/10 [iter： 001/157], acc： 71.875000, loss： 0.014606\n",
            "Valid Epoch: 2/10 [iter： 101/157], acc： 65.918936, loss： 0.016200\n",
            "==========================================================================\n",
            "Epoch: 00002/00010， Train acc： 66.853156， Train loss： 0.014641， Valid acc： 65.918936， Valid loss： 0.016200\n",
            "==========================================================================\n",
            "\n",
            "Epoch: 3\n",
            "Train Epoch: 3/10 [iter： 001/782], acc： 73.437500, loss： 0.010163\n",
            "Train Epoch: 3/10 [iter： 101/782], acc： 75.881807, loss： 0.011099\n",
            "Train Epoch: 3/10 [iter： 201/782], acc： 75.240983, loss： 0.011129\n",
            "Train Epoch: 3/10 [iter： 301/782], acc： 75.233596, loss： 0.011135\n",
            "Train Epoch: 3/10 [iter： 401/782], acc： 75.428616, loss： 0.011003\n",
            "Train Epoch: 3/10 [iter： 501/782], acc： 75.433508, loss： 0.011012\n"
          ],
          "name": "stdout"
        }
      ]
    },
    {
      "cell_type": "code",
      "metadata": {
        "id": "gV2Zx0P-6KDX"
      },
      "source": [
        "def plot_result(total_train, total_valid, label):\n",
        "    plt.plot(range(1,EPOCH+1), total_train, 'b-', label=f'Training_{label}')\n",
        "    plt.plot(range(1,EPOCH+1), total_valid, 'g-', label=f'validation_{label}')\n",
        "    plt.title(f'Training & Validation {label}')\n",
        "    plt.xlabel('Number of epochs')\n",
        "    plt.ylabel(f'{label}')\n",
        "    plt.legend()\n",
        "    plt.show()"
      ],
      "execution_count": null,
      "outputs": []
    },
    {
      "cell_type": "code",
      "metadata": {
        "id": "HhmLNAJS6M83"
      },
      "source": [
        "plot_result(total_train_accuracy, total_valid_accuracy, 'accuracy')\n",
        "plot_result(total_train_loss, total_valid_loss, 'loss')"
      ],
      "execution_count": null,
      "outputs": []
    }
  ]
}
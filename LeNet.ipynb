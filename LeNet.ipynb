{
  "nbformat": 4,
  "nbformat_minor": 0,
  "metadata": {
    "colab": {
      "name": "LeNet.ipynb",
      "provenance": [],
      "collapsed_sections": []
    },
    "kernelspec": {
      "name": "python3",
      "display_name": "Python 3"
    },
    "language_info": {
      "name": "python"
    }
  },
  "cells": [
    {
      "cell_type": "code",
      "metadata": {
        "id": "TAKvlQrW1xm6"
      },
      "source": [
        "import os\n",
        "import torch\n",
        "import torch.nn as nn\n",
        "import torch.nn.functional as F\n",
        "import torch.optim as optim\n",
        "from torch.utils.data import DataLoader\n",
        "from torch.autograd import Variable\n",
        "from torchvision import datasets, transforms\n",
        "import torchvision\n",
        "import matplotlib.pyplot as plt"
      ],
      "execution_count": null,
      "outputs": []
    },
    {
      "cell_type": "code",
      "metadata": {
        "id": "zSMJNwIjg3kp"
      },
      "source": [
        "from google.colab import drive\n",
        "drive.mount('/content/drive')"
      ],
      "execution_count": null,
      "outputs": []
    },
    {
      "cell_type": "code",
      "metadata": {
        "id": "_k9A3qXJ2Irw"
      },
      "source": [
        "# Hyper Parameters\n",
        "EPOCH = 10\n",
        "BATCH_SIZE = 256\n",
        "LR = 0.001\n",
        "DOWNLOAD_MNIST = False"
      ],
      "execution_count": 16,
      "outputs": []
    },
    {
      "cell_type": "code",
      "metadata": {
        "id": "lLjG6plA2Gyk"
      },
      "source": [
        "path = 'content/drive/MyDrive/Colab Notebooks/'\n",
        "if not(os.path.exists(os.path.join(path,'./mnist/'))) or not os.listdir(os.path.join(path,'./mnist/')):    \n",
        "    DOWNLOAD_MNIST = True\n",
        "\n",
        "\n",
        "# Transform\n",
        "transform = transforms.Compose(\n",
        "                [transforms.ToTensor(),\n",
        "                transforms.Normalize((0.5,), (0.5,)),]\n",
        "                )\n",
        "\n",
        "training_data = torchvision.datasets.MNIST(\n",
        "    root='./mnist',\n",
        "    train=True, # train parameter=True means getting trainingdata, False for testing data\n",
        "    transform=transform,\n",
        "    download=DOWNLOAD_MNIST\n",
        ")\n",
        "\n",
        "train_loader = DataLoader(dataset=training_data, batch_size=BATCH_SIZE, shuffle=True)"
      ],
      "execution_count": 17,
      "outputs": []
    },
    {
      "cell_type": "code",
      "metadata": {
        "id": "9tx5yUQV2pfX"
      },
      "source": [
        "valid_data = torchvision.datasets.MNIST(root='./mnist/', train=False, transform=transform)\n",
        "valid_loader = DataLoader(dataset=valid_data, batch_size=BATCH_SIZE, shuffle=False)"
      ],
      "execution_count": 47,
      "outputs": []
    },
    {
      "cell_type": "code",
      "metadata": {
        "id": "1WEn5Dtc2IVN"
      },
      "source": [
        "class LeNet(nn.Module):\n",
        "  def __init__(self):\n",
        "    super(LeNet, self).__init__()\n",
        "    self.conv1   = nn.Conv2d(in_channels = 1,out_channels = 6,kernel_size = 5,stride=1,padding=2)    \n",
        "    self.conv2   = nn.Conv2d(in_channels = 6,out_channels = 16,kernel_size = 5,stride=1,padding=2)\n",
        "    # self.conv3   = nn.Conv2d(in_channels = 6,out_channels = 16,kernel_size = 5,stride=1,padding=2)\n",
        "    self.pooling = nn.MaxPool2d(kernel_size=2, stride=2)\n",
        "    self.fc1     = nn.Linear(in_features=16*7*7, out_features=120)\n",
        "    self.fc2     = nn.Linear(in_features=120, out_features=84)\n",
        "    self.fc3     = nn.Linear(in_features=84, out_features=10)  \n",
        "\n",
        "  def forward(self, x):\n",
        "    # print(x.shape)\n",
        "    x = self.conv1(x)\n",
        "    # print(x.shape)\n",
        "    x = self.pooling(x)\n",
        "    # print(x.shape)\n",
        "    x = self.conv2(x)\n",
        "    # print(x.shape)\n",
        "    x = self.pooling(x)\n",
        "    # print(x.shape)\n",
        "    # x = x.view(-1, 16*5*5)\n",
        "    # print(x.shape)\n",
        "    x = torch.flatten(x,1)\n",
        "    # print(x.shape)\n",
        "    x = self.fc1(x)\n",
        "    # print(x.shape)\n",
        "    x = self.fc2(x)\n",
        "    # print(x.shape)\n",
        "    x = self.fc3(x)\n",
        "    # print(x.shape)\n",
        "\n",
        "    return x"
      ],
      "execution_count": 62,
      "outputs": []
    },
    {
      "cell_type": "code",
      "metadata": {
        "colab": {
          "base_uri": "https://localhost:8080/"
        },
        "id": "Kzj_omd04_1V",
        "outputId": "3f6c01c5-bf77-4c99-d335-8df707339c09"
      },
      "source": [
        "model = LeNet()\n",
        "print(model)\n",
        "\n",
        "optimizer = optim.Adam(model.parameters(), lr=LR)\n",
        "criterion = nn.CrossEntropyLoss()"
      ],
      "execution_count": 63,
      "outputs": [
        {
          "output_type": "stream",
          "text": [
            "LeNet(\n",
            "  (conv1): Conv2d(1, 6, kernel_size=(5, 5), stride=(1, 1), padding=(2, 2))\n",
            "  (conv2): Conv2d(6, 16, kernel_size=(5, 5), stride=(1, 1), padding=(2, 2))\n",
            "  (pooling): MaxPool2d(kernel_size=2, stride=2, padding=0, dilation=1, ceil_mode=False)\n",
            "  (fc1): Linear(in_features=784, out_features=120, bias=True)\n",
            "  (fc2): Linear(in_features=120, out_features=84, bias=True)\n",
            "  (fc3): Linear(in_features=84, out_features=10, bias=True)\n",
            ")\n"
          ],
          "name": "stdout"
        }
      ]
    },
    {
      "cell_type": "code",
      "metadata": {
        "id": "IJZp_ErH53N9"
      },
      "source": [
        "def train(train_loader, model, criterion, optimizer, epoch):\n",
        "    model.train()\n",
        "    total_train = 0\n",
        "    correct_train = 0\n",
        "    train_loss = 0\n",
        "    \n",
        "    for batch_idx, (data, target) in enumerate(train_loader):\n",
        "        data, target = Variable(data), Variable(target) \n",
        "        \n",
        "        # if CUDA:\n",
        "        #     data, target = data.cuda(), target.cuda()\n",
        "\n",
        "        # clear gradient\n",
        "        optimizer.zero_grad()\n",
        "\n",
        "        # Forward propagation\n",
        "        output = model(data) \n",
        "        loss = criterion(output, target) \n",
        "\n",
        "        # Calculate gradients\n",
        "        loss.backward()\n",
        "\n",
        "        # Update parameters\n",
        "        optimizer.step()\n",
        "\n",
        "        predicted = torch.max(output.data, 1)[1]\n",
        "        total_train += len(target)\n",
        "        correct_train += sum((predicted == target).float())\n",
        "        train_loss += loss.item()\n",
        "\n",
        "        if batch_idx % 100 == 0:\n",
        "            print(\"Train Epoch: {}/{} [iter： {}/{}], acc： {:.6f}, loss： {:.6f}\".format(\n",
        "               epoch+1, EPOCH, batch_idx+1, len(train_loader),\n",
        "               correct_train / float((batch_idx + 1) * BATCH_SIZE),\n",
        "               train_loss / float((batch_idx + 1) * BATCH_SIZE)))\n",
        "            \n",
        "    train_acc_ = 100 * (correct_train / float(total_train))\n",
        "    train_loss_ = train_loss / total_train\n",
        "                    \n",
        "    return train_acc_, train_loss_"
      ],
      "execution_count": 85,
      "outputs": []
    },
    {
      "cell_type": "code",
      "metadata": {
        "id": "WVAP9cV-zCqB"
      },
      "source": [
        "def validate(valid_loader, model, criterion, epoch): \n",
        "    model.eval()\n",
        "    total_valid = 0\n",
        "    correct_valid = 0\n",
        "    valid_loss = 0\n",
        "    \n",
        "    for batch_idx, (data, target) in enumerate(valid_loader):\n",
        "        data, target = Variable(data), Variable(target) \n",
        "        \n",
        "        # if CUDA:\n",
        "        #     data, target = data.cuda(), target.cuda()\n",
        "\n",
        "        output = model(data)\n",
        "        loss = criterion(output, target) \n",
        "\n",
        "        predicted = torch.max(output.data, 1)[1]\n",
        "        total_valid += len(target)\n",
        "        correct_valid += sum((predicted == target).float())\n",
        "        valid_loss += loss.item()\n",
        "\n",
        "        if batch_idx % 100 == 0:\n",
        "            print(\"Valid Epoch: {}/{} [iter： {}/{}], acc： {:.6f}, loss： {:.6f}\".format(\n",
        "               epoch+1, EPOCH, batch_idx+1, len(valid_loader),\n",
        "               correct_valid / float((batch_idx + 1) * BATCH_SIZE),\n",
        "               valid_loss / float((batch_idx + 1) * BATCH_SIZE)))\n",
        "            \n",
        "    valid_acc_ = 100 * (correct_valid / float(total_valid))\n",
        "    valid_loss_ = valid_loss / total_valid\n",
        "                    \n",
        "    return valid_acc_, valid_loss_"
      ],
      "execution_count": 86,
      "outputs": []
    },
    {
      "cell_type": "code",
      "metadata": {
        "id": "4Zmd2-aPgVt1"
      },
      "source": [
        "def training_loop(model, criterion, optimizer, train_loader, valid_loader):\n",
        "    # set objects for storing metrics\n",
        "    total_train_loss = []\n",
        "    total_valid_loss = []\n",
        "    total_train_accuracy = []\n",
        "    total_valid_accuracy = []\n",
        " \n",
        "    # Train model\n",
        "    for epoch in range(EPOCH):\n",
        "        # training\n",
        "        train_acc_, train_loss_ = train(train_loader, model, criterion, optimizer, epoch)\n",
        "        total_train_loss.append(train_loss_)\n",
        "        total_train_accuracy.append(train_acc_)\n",
        "\n",
        "        # validation\n",
        "        with torch.no_grad():\n",
        "            valid_acc_, valid_loss_ = validate(valid_loader, model, criterion, epoch)\n",
        "            total_valid_loss.append(valid_loss_)\n",
        "            total_valid_accuracy.append(valid_acc_)\n",
        "\n",
        "        print('==========================================================================')\n",
        "        print(\"Epoch: {}/{}， Train acc： {:.6f}， Train loss： {:.6f}， Valid acc： {:.6f}， Valid loss： {:.6f}\".format(\n",
        "               epoch+1, EPOCH, \n",
        "               train_acc_, train_loss_,\n",
        "               valid_acc_, valid_loss_))\n",
        "        print('==========================================================================')\n",
        "\n",
        "    print(\"====== END ==========\")\n",
        "\n",
        "    return total_train_loss, total_valid_loss, total_train_accuracy, total_valid_accuracy"
      ],
      "execution_count": 87,
      "outputs": []
    },
    {
      "cell_type": "code",
      "metadata": {
        "id": "7jrCA8Wrg9tS"
      },
      "source": [
        "def plot_result(total_train, total_valid, label):\n",
        "    plt.plot(range(EPOCH), total_train, 'b-', label=f'Training_{label}')\n",
        "    plt.plot(range(EPOCH), total_valid, 'g-', label=f'validation_{label}')\n",
        "    plt.title(f'Training & Validation {label}')\n",
        "    plt.xlabel('Number of epochs')\n",
        "    plt.ylabel(f'{label}')\n",
        "    plt.legend()\n",
        "    plt.show()"
      ],
      "execution_count": 88,
      "outputs": []
    },
    {
      "cell_type": "code",
      "metadata": {
        "colab": {
          "base_uri": "https://localhost:8080/",
          "height": 1000
        },
        "id": "EKMbxpnChEww",
        "outputId": "b75773f4-7ab6-4dc2-befd-22396bafbecd"
      },
      "source": [
        "total_train_loss, total_valid_loss, total_train_accuracy, total_valid_accuracy = training_loop(model, criterion, optimizer, train_loader, valid_loader)\n",
        "plot_result(total_train_loss, total_valid_loss, 'loss')\n",
        "plot_result(total_train_accuracy, total_valid_accuracy, 'accuracy')\n"
      ],
      "execution_count": 89,
      "outputs": [
        {
          "output_type": "stream",
          "text": [
            "Train Epoch: 1/10 [iter： 1/235], acc： 0.441406, loss： 0.008376\n",
            "Train Epoch: 1/10 [iter： 101/235], acc： 0.851679, loss： 0.002045\n",
            "Train Epoch: 1/10 [iter： 201/235], acc： 0.898574, loss： 0.001379\n",
            "Valid Epoch: 1/10 [iter： 1/40], acc： 0.984375, loss： 0.000329\n",
            "==========================================================================\n",
            "Epoch: 1/10， Train acc： 90.688339， Train loss： 0.001266， Valid acc： 96.650002， Valid loss： 0.000434\n",
            "==========================================================================\n",
            "Train Epoch: 2/10 [iter： 1/235], acc： 0.953125, loss： 0.000854\n",
            "Train Epoch: 2/10 [iter： 101/235], acc： 0.963026, loss： 0.000464\n",
            "Train Epoch: 2/10 [iter： 201/235], acc： 0.965660, loss： 0.000438\n",
            "Valid Epoch: 2/10 [iter： 1/40], acc： 0.988281, loss： 0.000190\n",
            "==========================================================================\n",
            "Epoch: 2/10， Train acc： 96.680000， Train loss： 0.000430， Valid acc： 97.489998， Valid loss： 0.000315\n",
            "==========================================================================\n",
            "Train Epoch: 3/10 [iter： 1/235], acc： 0.984375, loss： 0.000279\n",
            "Train Epoch: 3/10 [iter： 101/235], acc： 0.975015, loss： 0.000324\n",
            "Train Epoch: 3/10 [iter： 201/235], acc： 0.976252, loss： 0.000308\n",
            "Valid Epoch: 3/10 [iter： 1/40], acc： 0.992188, loss： 0.000179\n",
            "==========================================================================\n",
            "Epoch: 3/10， Train acc： 97.611664， Train loss： 0.000310， Valid acc： 97.899994， Valid loss： 0.000266\n",
            "==========================================================================\n",
            "Train Epoch: 4/10 [iter： 1/235], acc： 0.980469, loss： 0.000262\n",
            "Train Epoch: 4/10 [iter： 101/235], acc： 0.979038, loss： 0.000256\n",
            "Train Epoch: 4/10 [iter： 201/235], acc： 0.979517, loss： 0.000257\n",
            "Valid Epoch: 4/10 [iter： 1/40], acc： 0.992188, loss： 0.000120\n",
            "==========================================================================\n",
            "Epoch: 4/10， Train acc： 97.976669， Train loss： 0.000257， Valid acc： 98.239998， Valid loss： 0.000222\n",
            "==========================================================================\n",
            "Train Epoch: 5/10 [iter： 1/235], acc： 0.988281, loss： 0.000134\n",
            "Train Epoch: 5/10 [iter： 101/235], acc： 0.982403, loss： 0.000218\n",
            "Train Epoch: 5/10 [iter： 201/235], acc： 0.982101, loss： 0.000218\n",
            "Valid Epoch: 5/10 [iter： 1/40], acc： 0.996094, loss： 0.000066\n",
            "==========================================================================\n",
            "Epoch: 5/10， Train acc： 98.221664， Train loss： 0.000220， Valid acc： 98.229996， Valid loss： 0.000195\n",
            "==========================================================================\n",
            "Train Epoch: 6/10 [iter： 1/235], acc： 0.984375, loss： 0.000206\n",
            "Train Epoch: 6/10 [iter： 101/235], acc： 0.984530, loss： 0.000199\n",
            "Train Epoch: 6/10 [iter： 201/235], acc： 0.984841, loss： 0.000195\n",
            "Valid Epoch: 6/10 [iter： 1/40], acc： 0.996094, loss： 0.000106\n",
            "==========================================================================\n",
            "Epoch: 6/10， Train acc： 98.471664， Train loss： 0.000199， Valid acc： 98.169998， Valid loss： 0.000214\n",
            "==========================================================================\n",
            "Train Epoch: 7/10 [iter： 1/235], acc： 0.980469, loss： 0.000160\n",
            "Train Epoch: 7/10 [iter： 101/235], acc： 0.986657, loss： 0.000174\n",
            "Train Epoch: 7/10 [iter： 201/235], acc： 0.986007, loss： 0.000174\n",
            "Valid Epoch: 7/10 [iter： 1/40], acc： 0.992188, loss： 0.000071\n",
            "==========================================================================\n",
            "Epoch: 7/10， Train acc： 98.623337， Train loss： 0.000174， Valid acc： 98.489998， Valid loss： 0.000199\n",
            "==========================================================================\n",
            "Train Epoch: 8/10 [iter： 1/235], acc： 0.980469, loss： 0.000164\n",
            "Train Epoch: 8/10 [iter： 101/235], acc： 0.987701, loss： 0.000154\n",
            "Train Epoch: 8/10 [iter： 201/235], acc： 0.987640, loss： 0.000154\n",
            "Valid Epoch: 8/10 [iter： 1/40], acc： 0.992188, loss： 0.000121\n",
            "==========================================================================\n",
            "Epoch: 8/10， Train acc： 98.728333， Train loss： 0.000160， Valid acc： 98.079994， Valid loss： 0.000226\n",
            "==========================================================================\n",
            "Train Epoch: 9/10 [iter： 1/235], acc： 0.980469, loss： 0.000220\n",
            "Train Epoch: 9/10 [iter： 101/235], acc： 0.988049, loss： 0.000148\n",
            "Train Epoch: 9/10 [iter： 201/235], acc： 0.987523, loss： 0.000154\n",
            "Valid Epoch: 9/10 [iter： 1/40], acc： 0.996094, loss： 0.000079\n",
            "==========================================================================\n",
            "Epoch: 9/10， Train acc： 98.729996， Train loss： 0.000157， Valid acc： 98.470001， Valid loss： 0.000194\n",
            "==========================================================================\n",
            "Train Epoch: 10/10 [iter： 1/235], acc： 0.996094, loss： 0.000070\n",
            "Train Epoch: 10/10 [iter： 101/235], acc： 0.989480, loss： 0.000132\n",
            "Train Epoch: 10/10 [iter： 201/235], acc： 0.988553, loss： 0.000138\n",
            "Valid Epoch: 10/10 [iter： 1/40], acc： 0.992188, loss： 0.000118\n",
            "==========================================================================\n",
            "Epoch: 10/10， Train acc： 98.849998， Train loss： 0.000141， Valid acc： 98.389999， Valid loss： 0.000192\n",
            "==========================================================================\n",
            "====== END ==========\n"
          ],
          "name": "stdout"
        },
        {
          "output_type": "display_data",
          "data": {
            "image/png": "[encoded data removed]",
            "text/plain": [
              "<Figure size 432x288 with 1 Axes>"
            ]
          },
          "metadata": {
            "tags": [],
            "needs_background": "light"
          }
        },
        {
          "output_type": "display_data",
          "data": {
            "image/png": "[encoded data removed]",
            "text/plain": [
              "<Figure size 432x288 with 1 Axes>"
            ]
          },
          "metadata": {
            "tags": [],
            "needs_background": "light"
          }
        }
      ]
    }
  ]
}
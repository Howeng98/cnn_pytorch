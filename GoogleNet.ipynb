{
  "nbformat": 4,
  "nbformat_minor": 0,
  "metadata": {
    "colab": {
      "name": "GoogleNet.ipynb",
      "provenance": [],
      "collapsed_sections": []
    },
    "kernelspec": {
      "name": "python3",
      "display_name": "Python 3"
    },
    "language_info": {
      "name": "python"
    },
    "accelerator": "GPU"
  },
  "cells": [
    {
      "cell_type": "code",
      "metadata": {
        "id": "E31du8Z5zvfN"
      },
      "source": [
        "import os\n",
        "import torch\n",
        "import torch.nn as nn\n",
        "import torch.nn.functional as F\n",
        "import torch.optim as optim\n",
        "from torch.utils.data import DataLoader\n",
        "from torch.autograd import Variable\n",
        "from torchvision import datasets, transforms\n",
        "import torchvision\n",
        "import matplotlib.pyplot as plt\n",
        "from torchsummary import summary\n"
      ],
      "execution_count": 1,
      "outputs": []
    },
    {
      "cell_type": "code",
      "metadata": {
        "colab": {
          "base_uri": "https://localhost:8080/"
        },
        "id": "EE5rnh-w9Haz",
        "outputId": "c31dfc0c-4a2f-4eb6-b9f7-0e1672a5cd8f"
      },
      "source": [
        "!nvidia-smi\n",
        "device = torch.device(\"cuda:0\" if torch.cuda.is_available() else \"cpu\")\n",
        "print(device)"
      ],
      "execution_count": 3,
      "outputs": [
        {
          "output_type": "stream",
          "text": [
            "Tue Aug 24 07:16:33 2021       \n",
            "+-----------------------------------------------------------------------------+\n",
            "| NVIDIA-SMI 470.57.02    Driver Version: 460.32.03    CUDA Version: 11.2     |\n",
            "|-------------------------------+----------------------+----------------------+\n",
            "| GPU  Name        Persistence-M| Bus-Id        Disp.A | Volatile Uncorr. ECC |\n",
            "| Fan  Temp  Perf  Pwr:Usage/Cap|         Memory-Usage | GPU-Util  Compute M. |\n",
            "|                               |                      |               MIG M. |\n",
            "|===============================+======================+======================|\n",
            "|   0  Tesla T4            Off  | 00000000:00:04.0 Off |                    0 |\n",
            "| N/A   45C    P8    10W /  70W |      3MiB / 15109MiB |      0%      Default |\n",
            "|                               |                      |                  N/A |\n",
            "+-------------------------------+----------------------+----------------------+\n",
            "                                                                               \n",
            "+-----------------------------------------------------------------------------+\n",
            "| Processes:                                                                  |\n",
            "|  GPU   GI   CI        PID   Type   Process name                  GPU Memory |\n",
            "|        ID   ID                                                   Usage      |\n",
            "|=============================================================================|\n",
            "|  No running processes found                                                 |\n",
            "+-----------------------------------------------------------------------------+\n",
            "cuda:0\n"
          ],
          "name": "stdout"
        }
      ]
    },
    {
      "cell_type": "code",
      "metadata": {
        "id": "gOvSO7jjzx2v"
      },
      "source": [
        "# from google.colab import drive\n",
        "# drive.mount('/content/drive')"
      ],
      "execution_count": 4,
      "outputs": []
    },
    {
      "cell_type": "code",
      "metadata": {
        "id": "08VgZP8ozz_Y"
      },
      "source": [
        "# Hyper Parameters\n",
        "EPOCH = 5\n",
        "BATCH_SIZE = 64\n",
        "LR = 0.01\n",
        "MOMENTUM = 0.9\n",
        "num_classes = 10\n",
        "classes = ('plane', 'car', 'bird', 'cat',\n",
        "           'deer', 'dog', 'frog', 'horse', 'ship', 'truck')\n",
        "DOWNLOAD = True"
      ],
      "execution_count": 15,
      "outputs": []
    },
    {
      "cell_type": "code",
      "metadata": {
        "id": "P2pMAwFC0Auy",
        "colab": {
          "base_uri": "https://localhost:8080/"
        },
        "outputId": "f2adc5dc-4559-4129-d20b-685af00799d8"
      },
      "source": [
        "# Transform\n",
        "transform = transforms.Compose(\n",
        "                [\n",
        "                 transforms.Resize(size=(224,224)),\n",
        "                 transforms.ToTensor(),\n",
        "                 transforms.Normalize((0.5,), (0.5,)),                 \n",
        "                 transforms.RandomHorizontalFlip(),\n",
        "                ]\n",
        "                )\n",
        "\n",
        "# Data\n",
        "train_dataset = datasets.CIFAR10(root='/dataset', train=True, download=DOWNLOAD, transform=transform)\n",
        "valid_dataset = datasets.CIFAR10(root='/dataset', train=False, download=DOWNLOAD, transform=transform)\n",
        "train_loader = DataLoader(train_dataset, batch_size=BATCH_SIZE, shuffle=True, num_workers=2)\n",
        "valid_loader = DataLoader(valid_dataset, batch_size=BATCH_SIZE, shuffle=False, num_workers=2)"
      ],
      "execution_count": 16,
      "outputs": [
        {
          "output_type": "stream",
          "text": [
            "Files already downloaded and verified\n",
            "Files already downloaded and verified\n"
          ],
          "name": "stdout"
        }
      ]
    },
    {
      "cell_type": "code",
      "metadata": {
        "id": "QEN7tD046PjN"
      },
      "source": [
        "# Inception V1\n",
        "class Inception_Module(nn.Module):\n",
        "    def __init__(self, in_channels, out_channels1, out_channels2_1, out_channels2_2, out_channels3_1, out_channels3_2, out_channels4):\n",
        "        super(Inception_Module, self).__init__()\n",
        "        self.branch1 = nn.Sequential(\n",
        "            nn.Conv2d(in_channels=in_channels, out_channels=out_channels1, kernel_size=1, stride=1, padding='same'),\n",
        "            nn.BatchNorm2d(out_channels1),\n",
        "            nn.ReLU(inplace=True),\n",
        "        )\n",
        "        self.branch2 = nn.Sequential(\n",
        "            nn.Conv2d(in_channels=in_channels, out_channels=out_channels2_1, kernel_size=1, stride=1, padding='same'),\n",
        "            nn.BatchNorm2d(out_channels2_1),\n",
        "            nn.ReLU(inplace=True),\n",
        "            nn.Conv2d(in_channels=out_channels2_1, out_channels=out_channels2_2, kernel_size=3, stride=1, padding='same'),\n",
        "            nn.BatchNorm2d(out_channels2_2),\n",
        "            nn.ReLU(inplace=True),\n",
        "        )\n",
        "        self.branch3 = nn.Sequential(\n",
        "            nn.Conv2d(in_channels=in_channels, out_channels=out_channels3_1, kernel_size=1, stride=1, padding='same'),\n",
        "            nn.BatchNorm2d(out_channels3_1),\n",
        "            nn.ReLU(inplace=True),\n",
        "            nn.Conv2d(in_channels=out_channels3_1, out_channels=out_channels3_2, kernel_size=5, stride=1, padding='same'),\n",
        "            nn.BatchNorm2d(out_channels3_2),\n",
        "            nn.ReLU(inplace=True),\n",
        "        )\n",
        "        self.branch4 = nn.Sequential(\n",
        "            nn.MaxPool2d(kernel_size=3, stride=1, padding=1),       \n",
        "            nn.Conv2d(in_channels=in_channels, out_channels=out_channels4, kernel_size=1, stride=1, padding='same'),\n",
        "            nn.BatchNorm2d(out_channels4),\n",
        "            nn.ReLU(inplace=True),\n",
        "        )\n",
        "        \n",
        "\n",
        "    def forward(self, x):\n",
        "        out1 = self.branch1(x)\n",
        "        out2 = self.branch2(x)        \n",
        "        out3 = self.branch3(x)        \n",
        "        out4 = self.branch4(x)        \n",
        "\n",
        "        outputs = torch.cat([out1, out2, out3, out4], dim=1)\n",
        "        return outputs"
      ],
      "execution_count": 17,
      "outputs": []
    },
    {
      "cell_type": "code",
      "metadata": {
        "id": "caeDMfwAnTmN"
      },
      "source": [
        "class Auxiliary_Classifiers(nn.Module):\n",
        "    def __init__(self, in_channels, out_channels):\n",
        "        super(Auxiliary_Classifiers, self).__init__()\n",
        "        self.AvgPool2d = nn.AvgPool2d(kernel_size=5, stride=3)\n",
        "        self.Conv      = nn.Sequential(\n",
        "            nn.Conv2d(in_channels=in_channels, out_channels=128, kernel_size=1),\n",
        "            nn.BatchNorm2d(128),\n",
        "            nn.ReLU(inplace=True),    \n",
        "        )        \n",
        "        self.FC1       = nn.Linear(in_features=2048, out_features=1024)\n",
        "        self.FC2       = nn.Linear(in_features=1024, out_features=out_channels)\n",
        "        self.ReLU      = nn.ReLU(inplace=True)\n",
        "        self.Dropout   = nn.Dropout(p=0.5)        \n",
        "\n",
        "    def forward(self, x):\n",
        "        x = self.AvgPool2d(x)\n",
        "        x = self.Conv(x)\n",
        "        x = torch.flatten(x,1)\n",
        "        x = self.FC1(x)\n",
        "        x = self.ReLU(x)\n",
        "        x = self.Dropout(x)\n",
        "        x = self.FC2(x)        \n",
        "\n",
        "        return x"
      ],
      "execution_count": 18,
      "outputs": []
    },
    {
      "cell_type": "code",
      "metadata": {
        "id": "reWTv5P0NqEh"
      },
      "source": [
        "# Inception V1\n",
        "class GoogleNet(nn.Module):\n",
        "    def __init__(self, num_classes, aux_classfier=False):\n",
        "        super(GoogleNet, self).__init__()\n",
        "        self.aux_classfier = aux_classfier\n",
        "        self.Conv_Stem = nn.Sequential(\n",
        "            nn.Conv2d(in_channels=3, out_channels=64, kernel_size=7, stride=2, padding=3),\n",
        "            nn.BatchNorm2d(64),\n",
        "            nn.ReLU(inplace=True),\n",
        "            nn.MaxPool2d(kernel_size=3, stride=2, padding=1),\n",
        "            nn.Conv2d(in_channels=64, out_channels=64, kernel_size=1, stride=1),\n",
        "            nn.BatchNorm2d(64),\n",
        "            nn.ReLU(inplace=True),\n",
        "            nn.Conv2d(in_channels=64, out_channels=192, kernel_size=3, stride=1, padding=1),\n",
        "            nn.BatchNorm2d(192),\n",
        "            nn.ReLU(inplace=True),\n",
        "            nn.MaxPool2d(kernel_size=3, stride=2, padding=1),\n",
        "        )\n",
        "        self.Inception1 = Inception_Module(192, 64, 96, 128, 16, 32, 32)\n",
        "        self.Inception2 = Inception_Module(256, 128, 128, 192, 32, 96, 64)\n",
        "        self.Inception3 = Inception_Module(480, 192, 96, 208, 16, 48, 64)\n",
        "        self.Inception4 = Inception_Module(512, 160, 112, 224, 24, 64, 64)\n",
        "        self.Inception5 = Inception_Module(512, 128, 128, 256, 24, 64, 64)\n",
        "        self.Inception6 = Inception_Module(512, 112, 144, 288, 32, 64, 64)\n",
        "        self.Inception7 = Inception_Module(528, 256, 160, 320, 32, 128, 128)\n",
        "        self.Inception8 = Inception_Module(832, 256, 160, 320 ,32 ,128, 128)        \n",
        "        self.Inception9 = Inception_Module(832, 384, 192, 384, 48, 128, 128)\n",
        "                \n",
        "        self.MaxPool2d  = nn.MaxPool2d(kernel_size=3, stride=2, padding=1)\n",
        "        self.AvgPool2d  = nn.AvgPool2d(kernel_size=7, stride=1)\n",
        "        self.Dropout    = nn.Dropout(p=0.3)\n",
        "        self.FC         = nn.Linear(in_features=1024, out_features=num_classes)\n",
        "        self.auxiliary1 = Auxiliary_Classifiers(in_channels=512, out_channels=num_classes)\n",
        "        self.auxiliary2 = Auxiliary_Classifiers(in_channels=528, out_channels=num_classes)\n",
        "                        \n",
        "\n",
        "    def forward(self, x):\n",
        "        x = self.Conv_Stem(x)\n",
        "        x = self.Inception1(x)\n",
        "        x = self.Inception2(x)\n",
        "        x = self.MaxPool2d(x)\n",
        "        x = self.Inception3(x)\n",
        "        if self.aux_classfier is True:\n",
        "          aux1 = self.auxiliary1(x)\n",
        "        x = self.Inception4(x)\n",
        "        x = self.Inception5(x)\n",
        "        x = self.Inception6(x)\n",
        "        if self.aux_classfier is True:\n",
        "          aux2 = self.auxiliary2(x)\n",
        "        x = self.Inception7(x)\n",
        "        x = self.MaxPool2d(x)\n",
        "        x = self.Inception8(x)\n",
        "        x = self.Inception9(x)\n",
        "        x = self.AvgPool2d(x)\n",
        "        x = self.Dropout(x)\n",
        "        x = torch.flatten(x,1)\n",
        "        x = self.FC(x)      \n",
        "\n",
        "        if self.aux_classfier is True:\n",
        "          return x, aux1, aux2\n",
        "        else:\n",
        "          return x"
      ],
      "execution_count": 19,
      "outputs": []
    },
    {
      "cell_type": "code",
      "metadata": {
        "id": "pEgGWNFG7z-z"
      },
      "source": [
        "model = GoogleNet(num_classes, aux_classfier=True)\n",
        "model = model.to(device)\n",
        "# summary(model, (3,224,224))\n",
        "optimizer = optim.SGD(model.parameters(), lr=LR, momentum=MOMENTUM)\n",
        "criterion = nn.CrossEntropyLoss()\n",
        "# print(model)\n"
      ],
      "execution_count": 20,
      "outputs": []
    },
    {
      "cell_type": "code",
      "metadata": {
        "id": "-4YxWiOi4ibk"
      },
      "source": [
        "def train(epoch):\n",
        "    print('\\nEpoch: %d' % epoch)    \n",
        "    model.train()\n",
        "    \n",
        "    train_loss = 0\n",
        "    correct = 0\n",
        "    total = 0            \n",
        "    for batch_idx, (inputs, targets) in enumerate(train_loader):\n",
        "        loss = torch.Tensor([0.0]).float().to(device)\n",
        "        inputs, targets = inputs.to(device), targets.to(device)\n",
        "        \n",
        "        \n",
        "        optimizer.zero_grad()        \n",
        "        outputs, aux1, aux2 = model(inputs)\n",
        "                \n",
        "        loss_output = criterion(outputs, targets)\n",
        "        loss_aux1 = criterion(aux1, targets) \n",
        "        loss_aux2 = criterion(aux2, targets) \n",
        "        loss = loss_output + loss_aux1 * 0.3 + loss_aux2 * 0.3\n",
        "        \n",
        "        loss.backward()\n",
        "\n",
        "        optimizer.step()\n",
        "\n",
        "        train_loss += loss.item()\n",
        "        _, predicted = outputs.max(1)\n",
        "        total += targets.size(0)\n",
        "        correct += predicted.eq(targets).sum().item()\n",
        "\n",
        "        if batch_idx % 100 == 0:\n",
        "            train_acc_per_epoch = 100 * (correct / float(total))\n",
        "            train_loss_per_epoch = train_loss / total\n",
        "            print(\"Train Epoch: {}/{} [iter： {:03d}/{:03d}], acc： {:.6f}, loss： {:.6f}\".format(\n",
        "               epoch, EPOCH, batch_idx+1, len(train_loader),\n",
        "               train_acc_per_epoch,\n",
        "               train_loss_per_epoch))\n",
        "    return train_acc_per_epoch, train_loss_per_epoch\n"
      ],
      "execution_count": 21,
      "outputs": []
    },
    {
      "cell_type": "code",
      "metadata": {
        "id": "TpKCLlBg6Gzb"
      },
      "source": [
        "def test(epoch):        \n",
        "    model.eval()\n",
        "    test_loss = 0\n",
        "    correct = 0\n",
        "    total = 0    \n",
        "    with torch.no_grad():\n",
        "        for batch_idx, (inputs, targets) in enumerate(valid_loader):\n",
        "            loss = torch.Tensor([0.0]).float().to(device)\n",
        "            inputs, targets = inputs.to(device), targets.to(device)\n",
        "            \n",
        "            outputs, _ , _ = model(inputs)            \n",
        "            loss = criterion(outputs, targets)\n",
        "\n",
        "            test_loss += loss.item()\n",
        "            _, predicted = outputs.max(1)\n",
        "            total += targets.size(0)\n",
        "            correct += predicted.eq(targets).sum().item()\n",
        "\n",
        "            if batch_idx % 100 == 0:     \n",
        "              test_acc_per_epoch = 100 * (correct / float(total))\n",
        "              test_loss_per_epoch = test_loss / total\n",
        "              print(\"Valid Epoch: {}/{} [iter： {:03d}/{:03d}], acc： {:.6f}, loss： {:.6f}\".format(\n",
        "                epoch, EPOCH, batch_idx+1, len(valid_loader),                \n",
        "                test_acc_per_epoch,\n",
        "                test_loss_per_epoch))                \n",
        "            \n",
        "    return test_acc_per_epoch, test_loss_per_epoch"
      ],
      "execution_count": 22,
      "outputs": []
    },
    {
      "cell_type": "code",
      "metadata": {
        "id": "AfjeuVNo6H7r"
      },
      "source": [
        "def training_loop():\n",
        "    # set objects for storing metrics\n",
        "    total_train_loss = []\n",
        "    total_valid_loss = []\n",
        "    total_train_accuracy = []\n",
        "    total_valid_accuracy = []\n",
        " \n",
        "    # Train model\n",
        "    for epoch in range(1,EPOCH+1):\n",
        "        # training\n",
        "        \n",
        "        train_acc_, train_loss_ = train(epoch)\n",
        "        total_train_accuracy.append(train_acc_)\n",
        "        total_train_loss.append(train_loss_)\n",
        "        \n",
        "        valid_acc_, valid_loss_ = test(epoch)        \n",
        "        total_valid_accuracy.append(valid_acc_)\n",
        "        total_valid_loss.append(valid_loss_)\n",
        "\n",
        "        print('==========================================================================')\n",
        "        print(\"Epoch: {:05d}/{:05d}， Train acc： {:.6f}， Train loss： {:.6f}， Valid acc： {:.6f}， Valid loss： {:.6f}\".format(\n",
        "               epoch, EPOCH, \n",
        "               train_acc_, train_loss_,\n",
        "               valid_acc_, valid_loss_))\n",
        "        print('==========================================================================')\n",
        "\n",
        "    # print(\"====== END ==========\")\n",
        "\n",
        "    return total_train_loss, total_valid_loss, total_train_accuracy, total_valid_accuracy"
      ],
      "execution_count": 23,
      "outputs": []
    },
    {
      "cell_type": "code",
      "metadata": {
        "colab": {
          "base_uri": "https://localhost:8080/"
        },
        "id": "krAsdhnN6LmO",
        "outputId": "9d22ab99-8c86-45e6-f00e-bf452cd718bf"
      },
      "source": [
        "total_train_loss, total_valid_loss, total_train_accuracy, total_valid_accuracy = training_loop()"
      ],
      "execution_count": 24,
      "outputs": [
        {
          "output_type": "stream",
          "text": [
            "\n",
            "Epoch: 1\n",
            "Train Epoch: 1/5 [iter： 001/782], acc： 3.125000, loss： 0.057946\n",
            "Train Epoch: 1/5 [iter： 101/782], acc： 29.919554, loss： 0.046600\n",
            "Train Epoch: 1/5 [iter： 201/782], acc： 35.424440, loss： 0.043068\n",
            "Train Epoch: 1/5 [iter： 301/782], acc： 39.072882, loss： 0.040793\n",
            "Train Epoch: 1/5 [iter： 401/782], acc： 42.378429, loss： 0.038922\n",
            "Train Epoch: 1/5 [iter： 501/782], acc： 45.013099, loss： 0.037253\n",
            "Train Epoch: 1/5 [iter： 601/782], acc： 47.231177, loss： 0.035841\n",
            "Train Epoch: 1/5 [iter： 701/782], acc： 49.418242, loss： 0.034500\n",
            "Valid Epoch: 1/5 [iter： 001/157], acc： 56.250000, loss： 0.019247\n",
            "Valid Epoch: 1/5 [iter： 101/157], acc： 58.864480, loss： 0.019798\n",
            "==========================================================================\n",
            "Epoch: 00001/00005， Train acc： 49.418242， Train loss： 0.034500， Valid acc： 58.864480， Valid loss： 0.019798\n",
            "==========================================================================\n",
            "\n",
            "Epoch: 2\n",
            "Train Epoch: 2/5 [iter： 001/782], acc： 75.000000, loss： 0.023019\n",
            "Train Epoch: 2/5 [iter： 101/782], acc： 65.068069, loss： 0.023942\n",
            "Train Epoch: 2/5 [iter： 201/782], acc： 67.817164, loss： 0.022463\n",
            "Train Epoch: 2/5 [iter： 301/782], acc： 69.170473, loss： 0.021629\n",
            "Train Epoch: 2/5 [iter： 401/782], acc： 70.031951, loss： 0.021147\n",
            "Train Epoch: 2/5 [iter： 501/782], acc： 70.512101, loss： 0.020906\n",
            "Train Epoch: 2/5 [iter： 601/782], acc： 71.448627, loss： 0.020410\n",
            "Train Epoch: 2/5 [iter： 701/782], acc： 72.093438, loss： 0.020039\n",
            "Valid Epoch: 2/5 [iter： 001/157], acc： 71.875000, loss： 0.014743\n",
            "Valid Epoch: 2/5 [iter： 101/157], acc： 71.905941, loss： 0.013644\n",
            "==========================================================================\n",
            "Epoch: 00002/00005， Train acc： 72.093438， Train loss： 0.020039， Valid acc： 71.905941， Valid loss： 0.013644\n",
            "==========================================================================\n",
            "\n",
            "Epoch: 3\n",
            "Train Epoch: 3/5 [iter： 001/782], acc： 73.437500, loss： 0.016589\n",
            "Train Epoch: 3/5 [iter： 101/782], acc： 78.403465, loss： 0.016294\n",
            "Train Epoch: 3/5 [iter： 201/782], acc： 78.949005, loss： 0.015795\n",
            "Train Epoch: 3/5 [iter： 301/782], acc： 79.152824, loss： 0.015546\n",
            "Train Epoch: 3/5 [iter： 401/782], acc： 79.375779, loss： 0.015413\n",
            "Train Epoch: 3/5 [iter： 501/782], acc： 79.515968, loss： 0.015323\n",
            "Train Epoch: 3/5 [iter： 601/782], acc： 79.721298, loss： 0.015146\n",
            "Train Epoch: 3/5 [iter： 701/782], acc： 79.925999, loss： 0.015029\n",
            "Valid Epoch: 3/5 [iter： 001/157], acc： 79.687500, loss： 0.011137\n",
            "Valid Epoch: 3/5 [iter： 101/157], acc： 79.470916, loss： 0.009484\n",
            "==========================================================================\n",
            "Epoch: 00003/00005， Train acc： 79.925999， Train loss： 0.015029， Valid acc： 79.470916， Valid loss： 0.009484\n",
            "==========================================================================\n",
            "\n",
            "Epoch: 4\n",
            "Train Epoch: 4/5 [iter： 001/782], acc： 78.125000, loss： 0.011336\n",
            "Train Epoch: 4/5 [iter： 101/782], acc： 82.100866, loss： 0.013072\n",
            "Train Epoch: 4/5 [iter： 201/782], acc： 82.929104, loss： 0.012796\n",
            "Train Epoch: 4/5 [iter： 301/782], acc： 83.118771, loss： 0.012807\n",
            "Train Epoch: 4/5 [iter： 401/782], acc： 83.513872, loss： 0.012590\n",
            "Train Epoch: 4/5 [iter： 501/782], acc： 83.635853, loss： 0.012507\n",
            "Train Epoch: 4/5 [iter： 601/782], acc： 83.530054, loss： 0.012580\n",
            "Train Epoch: 4/5 [iter： 701/782], acc： 83.552514, loss： 0.012486\n",
            "Valid Epoch: 4/5 [iter： 001/157], acc： 82.812500, loss： 0.009578\n",
            "Valid Epoch: 4/5 [iter： 101/157], acc： 82.564975, loss： 0.008391\n",
            "==========================================================================\n",
            "Epoch: 00004/00005， Train acc： 83.552514， Train loss： 0.012486， Valid acc： 82.564975， Valid loss： 0.008391\n",
            "==========================================================================\n",
            "\n",
            "Epoch: 5\n",
            "Train Epoch: 5/5 [iter： 001/782], acc： 79.687500, loss： 0.012315\n",
            "Train Epoch: 5/5 [iter： 101/782], acc： 86.803837, loss： 0.010307\n",
            "Train Epoch: 5/5 [iter： 201/782], acc： 86.660448, loss： 0.010414\n",
            "Train Epoch: 5/5 [iter： 301/782], acc： 86.461794, loss： 0.010571\n",
            "Train Epoch: 5/5 [iter： 401/782], acc： 86.315461, loss： 0.010622\n",
            "Train Epoch: 5/5 [iter： 501/782], acc： 86.371008, loss： 0.010551\n",
            "Train Epoch: 5/5 [iter： 601/782], acc： 86.371672, loss： 0.010551\n",
            "Train Epoch: 5/5 [iter： 701/782], acc： 86.441245, loss： 0.010502\n",
            "Valid Epoch: 5/5 [iter： 001/157], acc： 81.250000, loss： 0.008244\n",
            "Valid Epoch: 5/5 [iter： 101/157], acc： 83.972772, loss： 0.007469\n",
            "==========================================================================\n",
            "Epoch: 00005/00005， Train acc： 86.441245， Train loss： 0.010502， Valid acc： 83.972772， Valid loss： 0.007469\n",
            "==========================================================================\n"
          ],
          "name": "stdout"
        }
      ]
    },
    {
      "cell_type": "code",
      "metadata": {
        "id": "gV2Zx0P-6KDX"
      },
      "source": [
        "def plot_result(total_train, total_valid, label):\n",
        "    plt.plot(range(1,EPOCH+1), total_train, 'b-', label=f'Training_{label}')\n",
        "    plt.plot(range(1,EPOCH+1), total_valid, 'g-', label=f'validation_{label}')\n",
        "    plt.title(f'Training & Validation {label}')\n",
        "    plt.xlabel('Number of epochs')\n",
        "    plt.ylabel(f'{label}')\n",
        "    plt.legend()\n",
        "    plt.show()"
      ],
      "execution_count": 25,
      "outputs": []
    },
    {
      "cell_type": "code",
      "metadata": {
        "id": "HhmLNAJS6M83",
        "colab": {
          "base_uri": "https://localhost:8080/",
          "height": 573
        },
        "outputId": "dd18f955-4112-45d3-cda4-aecfb399089f"
      },
      "source": [
        "plot_result(total_train_accuracy, total_valid_accuracy, 'accuracy')\n",
        "plot_result(total_train_loss, total_valid_loss, 'loss')"
      ],
      "execution_count": 26,
      "outputs": [
        {
          "output_type": "display_data",
          "data": {
            "image/png": "[encoded data removed]",
            "text/plain": [
              "<Figure size 432x288 with 1 Axes>"
            ]
          },
          "metadata": {
            "needs_background": "light"
          }
        },
        {
          "output_type": "display_data",
          "data": {
            "image/png": "[encoded data removed]",
            "text/plain": [
              "<Figure size 432x288 with 1 Axes>"
            ]
          },
          "metadata": {
            "needs_background": "light"
          }
        }
      ]
    }
  ]
}